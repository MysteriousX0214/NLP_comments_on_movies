{
 "cells": [
  {
   "cell_type": "code",
   "execution_count": 18,
   "id": "e00ff4ec",
   "metadata": {},
   "outputs": [],
   "source": [
    "from keras.datasets import imdb\n",
    "from keras.preprocessing import sequence\n",
    "from keras.models import Sequential\n",
    "from sklearn.metrics import accuracy_score\n",
    "import keras\n",
    "import tensorflow as tf\n",
    "import os\n",
    "import numpy as np\n",
    "\n",
    "VOCAB_SIZE=88584\n",
    "\n",
    "MAXLEN=250\n",
    "BATCH_SIZE=64\n",
    "\n",
    "(train_data,train_label),(test_data,test_label)=imdb.load_data(num_words=VOCAB_SIZE)"
   ]
  },
  {
   "cell_type": "code",
   "execution_count": 9,
   "id": "3d0f10df",
   "metadata": {},
   "outputs": [
    {
     "data": {
      "text/plain": [
       "(array([    0,     0,     0,     0,     0,     0,     0,     0,     0,\n",
       "            0,     0,     0,     0,     0,     0,     0,     0,     0,\n",
       "            0,     0,     0,     0,     0,     0,     0,     0,     0,\n",
       "            0,     0,     0,     0,     0,     0,     0,     0,     0,\n",
       "            0,     0,     0,     0,     0,     0,     0,     0,     0,\n",
       "            0,     0,     0,     0,     0,     0,     0,     0,     0,\n",
       "            0,     0,     0,     0,     0,     0,     0,     1,   194,\n",
       "         1153,   194,  8255,    78,   228,     5,     6,  1463,  4369,\n",
       "         5012,   134,    26,     4,   715,     8,   118,  1634,    14,\n",
       "          394,    20,    13,   119,   954,   189,   102,     5,   207,\n",
       "          110,  3103,    21,    14,    69,   188,     8,    30,    23,\n",
       "            7,     4,   249,   126,    93,     4,   114,     9,  2300,\n",
       "         1523,     5,   647,     4,   116,     9,    35,  8163,     4,\n",
       "          229,     9,   340,  1322,     4,   118,     9,     4,   130,\n",
       "         4901,    19,     4,  1002,     5,    89,    29,   952,    46,\n",
       "           37,     4,   455,     9,    45,    43,    38,  1543,  1905,\n",
       "          398,     4,  1649,    26,  6853,     5,   163,    11,  3215,\n",
       "        10156,     4,  1153,     9,   194,   775,     7,  8255, 11596,\n",
       "          349,  2637,   148,   605, 15358,  8003,    15,   123,   125,\n",
       "           68, 23141,  6853,    15,   349,   165,  4362,    98,     5,\n",
       "            4,   228,     9,    43, 36893,  1157,    15,   299,   120,\n",
       "            5,   120,   174,    11,   220,   175,   136,    50,     9,\n",
       "         4373,   228,  8255,     5, 25249,   656,   245,  2350,     5,\n",
       "            4,  9837,   131,   152,   491,    18, 46151,    32,  7464,\n",
       "         1212,    14,     9,     6,   371,    78,    22,   625,    64,\n",
       "         1382,     9,     8,   168,   145,    23,     4,  1690,    15,\n",
       "           16,     4,  1355,     5,    28,     6,    52,   154,   462,\n",
       "           33,    89,    78,   285,    16,   145,    95]),\n",
       " 0)"
      ]
     },
     "execution_count": 9,
     "metadata": {},
     "output_type": "execute_result"
    }
   ],
   "source": [
    "#train_data[1],train_label[1]"
   ]
  },
  {
   "cell_type": "code",
   "execution_count": 4,
   "id": "1134a126",
   "metadata": {},
   "outputs": [
    {
     "data": {
      "text/plain": [
       "((25000,), (25000,), (25000,), (25000,))"
      ]
     },
     "execution_count": 4,
     "metadata": {},
     "output_type": "execute_result"
    }
   ],
   "source": [
    "train_data.shape,train_label.shape,test_data.shape,test_label.shape"
   ]
  },
  {
   "cell_type": "code",
   "execution_count": 5,
   "id": "5e9d0df4",
   "metadata": {},
   "outputs": [],
   "source": [
    "train_data=sequence.pad_sequences(train_data,MAXLEN)\n",
    "test_data=sequence.pad_sequences(test_data,MAXLEN)"
   ]
  },
  {
   "cell_type": "code",
   "execution_count": 19,
   "id": "53ab0817",
   "metadata": {},
   "outputs": [],
   "source": [
    "model=Sequential([tf.keras.layers.Embedding(VOCAB_SIZE,32),tf.keras.layers.LSTM(32),tf.keras.layers.Dense(1,activation='sigmoid')])"
   ]
  },
  {
   "cell_type": "code",
   "execution_count": 20,
   "id": "ea883aa6",
   "metadata": {},
   "outputs": [
    {
     "name": "stdout",
     "output_type": "stream",
     "text": [
      "Model: \"sequential_2\"\n",
      "_________________________________________________________________\n",
      "Layer (type)                 Output Shape              Param #   \n",
      "=================================================================\n",
      "embedding_2 (Embedding)      (None, None, 32)          2834688   \n",
      "_________________________________________________________________\n",
      "lstm_2 (LSTM)                (None, 32)                8320      \n",
      "_________________________________________________________________\n",
      "dense_2 (Dense)              (None, 1)                 33        \n",
      "=================================================================\n",
      "Total params: 2,843,041\n",
      "Trainable params: 2,843,041\n",
      "Non-trainable params: 0\n",
      "_________________________________________________________________\n"
     ]
    }
   ],
   "source": [
    "model.summary()"
   ]
  },
  {
   "cell_type": "code",
   "execution_count": 8,
   "id": "22ab6285",
   "metadata": {
    "scrolled": false
   },
   "outputs": [
    {
     "name": "stdout",
     "output_type": "stream",
     "text": [
      "Epoch 1/10\n",
      "625/625 [==============================] - 27s 41ms/step - loss: 0.4228 - accuracy: 0.8062 - val_loss: 0.3786 - val_accuracy: 0.8516\n",
      "Epoch 2/10\n",
      "625/625 [==============================] - 26s 42ms/step - loss: 0.2368 - accuracy: 0.9084 - val_loss: 0.2719 - val_accuracy: 0.8864\n",
      "Epoch 3/10\n",
      "625/625 [==============================] - 26s 42ms/step - loss: 0.1821 - accuracy: 0.9334 - val_loss: 0.3073 - val_accuracy: 0.8826\n",
      "Epoch 4/10\n",
      "625/625 [==============================] - 26s 42ms/step - loss: 0.1520 - accuracy: 0.9459 - val_loss: 0.2961 - val_accuracy: 0.8910\n",
      "Epoch 5/10\n",
      "625/625 [==============================] - 27s 43ms/step - loss: 0.1265 - accuracy: 0.9556 - val_loss: 0.3143 - val_accuracy: 0.8860\n",
      "Epoch 6/10\n",
      "625/625 [==============================] - 27s 43ms/step - loss: 0.1114 - accuracy: 0.9630 - val_loss: 0.3448 - val_accuracy: 0.8794\n",
      "Epoch 7/10\n",
      "625/625 [==============================] - 27s 44ms/step - loss: 0.0961 - accuracy: 0.9671 - val_loss: 0.3207 - val_accuracy: 0.8886\n",
      "Epoch 8/10\n",
      "625/625 [==============================] - 27s 43ms/step - loss: 0.0850 - accuracy: 0.9722 - val_loss: 0.3451 - val_accuracy: 0.8878\n",
      "Epoch 9/10\n",
      "625/625 [==============================] - 27s 43ms/step - loss: 0.0758 - accuracy: 0.9760 - val_loss: 0.3945 - val_accuracy: 0.8860\n",
      "Epoch 10/10\n",
      "625/625 [==============================] - 27s 43ms/step - loss: 0.0683 - accuracy: 0.9780 - val_loss: 0.3480 - val_accuracy: 0.8844\n"
     ]
    }
   ],
   "source": [
    "model.compile(loss='binary_crossentropy',optimizer='rmsprop',metrics=['accuracy'])\n",
    "history=model.fit(train_data,train_label,epochs=10,validation_split=0.2)"
   ]
  },
  {
   "cell_type": "code",
   "execution_count": 10,
   "id": "6254aa08",
   "metadata": {},
   "outputs": [
    {
     "name": "stdout",
     "output_type": "stream",
     "text": [
      "782/782 [==============================] - 11s 14ms/step - loss: 0.4187 - accuracy: 0.8580\n",
      "[0.4187116324901581, 0.8579599857330322]\n"
     ]
    }
   ],
   "source": [
    "results=model.evaluate(test_data,test_label)\n",
    "print(results)"
   ]
  },
  {
   "cell_type": "code",
   "execution_count": 11,
   "id": "baa25a61",
   "metadata": {},
   "outputs": [
    {
     "name": "stdout",
     "output_type": "stream",
     "text": [
      "[  0   0   0   0   0   0   0   0   0   0   0   0   0   0   0   0   0   0\n",
      "   0   0   0   0   0   0   0   0   0   0   0   0   0   0   0   0   0   0\n",
      "   0   0   0   0   0   0   0   0   0   0   0   0   0   0   0   0   0   0\n",
      "   0   0   0   0   0   0   0   0   0   0   0   0   0   0   0   0   0   0\n",
      "   0   0   0   0   0   0   0   0   0   0   0   0   0   0   0   0   0   0\n",
      "   0   0   0   0   0   0   0   0   0   0   0   0   0   0   0   0   0   0\n",
      "   0   0   0   0   0   0   0   0   0   0   0   0   0   0   0   0   0   0\n",
      "   0   0   0   0   0   0   0   0   0   0   0   0   0   0   0   0   0   0\n",
      "   0   0   0   0   0   0   0   0   0   0   0   0   0   0   0   0   0   0\n",
      "   0   0   0   0   0   0   0   0   0   0   0   0   0   0   0   0   0   0\n",
      "   0   0   0   0   0   0   0   0   0   0   0   0   0   0   0   0   0   0\n",
      "   0   0   0   0   0   0   0   0   0   0   0   0   0   0   0   0   0   0\n",
      "   0   0   0   0   0   0   0   0   0   0   0   0   0   0   0   0   0   0\n",
      "   0   0   0   0   0   0   0   0   0  12  17  13  40 477  35 477]\n"
     ]
    }
   ],
   "source": [
    "word_index=imdb.get_word_index()\n",
    "def encode_text(text):\n",
    "    tokens=keras.preprocessing.text.text_to_word_sequence(text)\n",
    "    tokens=[word_index[word] if word in word_index else 0 for word in tokens]\n",
    "    return sequence.pad_sequences([tokens],MAXLEN)[0]\n",
    "text=\"that movie was just amazing, so amazing\"\n",
    "encoded= encode_text(text)\n",
    "print(encoded)"
   ]
  },
  {
   "cell_type": "code",
   "execution_count": 12,
   "id": "e994d76f",
   "metadata": {},
   "outputs": [
    {
     "name": "stdout",
     "output_type": "stream",
     "text": [
      "that movie was just amazing so amazing\n"
     ]
    }
   ],
   "source": [
    "reverse_word_index={value: key for (key,value) in word_index.items()}\n",
    "def decode_integers(integers):\n",
    "    PAD=0\n",
    "    text=\"\"\n",
    "    for num in integers:\n",
    "        if num!=PAD:\n",
    "            text+=reverse_word_index[num]+\" \"\n",
    "    return text[:-1]\n",
    "\n",
    "print(decode_integers(encoded))"
   ]
  },
  {
   "cell_type": "code",
   "execution_count": 13,
   "id": "de478adf",
   "metadata": {},
   "outputs": [
    {
     "name": "stdout",
     "output_type": "stream",
     "text": [
      "[0.8920747]\n",
      "[0.18015224]\n"
     ]
    }
   ],
   "source": [
    "def predict(text):\n",
    "    encoded_text=encode_text(text)\n",
    "    pred=np.zeros((1,250))\n",
    "    pred[0]=encoded_text\n",
    "    result=model.predict(pred)\n",
    "    print(result[0])\n",
    "\n",
    "positive_review = \"That movie was! really loved it and would great watch it again because it was amazingly great\"\n",
    "predict(positive_review)\n",
    "\n",
    "negative_review = \"that movie really sucked. I hated it and wouldn't watch it again. Was one of the worst things I've ever watched\"\n",
    "predict(negative_review)"
   ]
  },
  {
   "cell_type": "code",
   "execution_count": null,
   "id": "27d53b5e",
   "metadata": {},
   "outputs": [],
   "source": []
  }
 ],
 "metadata": {
  "kernelspec": {
   "display_name": "Python 3 (ipykernel)",
   "language": "python",
   "name": "python3"
  },
  "language_info": {
   "codemirror_mode": {
    "name": "ipython",
    "version": 3
   },
   "file_extension": ".py",
   "mimetype": "text/x-python",
   "name": "python",
   "nbconvert_exporter": "python",
   "pygments_lexer": "ipython3",
   "version": "3.9.7"
  }
 },
 "nbformat": 4,
 "nbformat_minor": 5
}
